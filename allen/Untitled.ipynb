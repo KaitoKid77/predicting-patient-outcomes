{
 "cells": [
  {
   "cell_type": "code",
   "execution_count": 1,
   "metadata": {},
   "outputs": [],
   "source": [
    "import pandas as pd\n",
    "import numpy as np\n",
    "import matplotlib.pyplot as plt\n",
    "import seaborn as sns\n",
    "import wrangle\n",
    "import prepare_ravinder\n",
    "from sklearn.model_selection import train_test_split\n",
    "# ignore warnings\n",
    "import warnings\n",
    "warnings.filterwarnings(\"ignore\")\n",
    "from sklearn.linear_model import LogisticRegression\n",
    "from sklearn.metrics import auc, roc_curve, roc_auc_score\n",
    "sns.set()\n",
    "%matplotlib inline\n",
    "from sklearn.ensemble import RandomForestClassifier\n",
    "from sklearn.metrics import classification_report\n",
    "from sklearn.metrics import confusion_matrix\n",
    "from sklearn.neighbors import KNeighborsClassifier\n",
    "from sklearn.preprocessing import LabelEncoder, OneHotEncoder, MinMaxScaler\n",
    "from sklearn.preprocessing import MinMaxScaler\n",
    "import matplotlib.gridspec as gridspec\n",
    "from sklearn.experimental import enable_iterative_imputer  \n",
    "from sklearn.impute import IterativeImputer\n",
    "import lightgbm as lgb\n",
    "from xgboost import XGBClassifier\n",
    "import xgboost as xgb\n",
    "from lightgbm import plot_tree\n",
    "from lightgbm import plot_importance\n",
    "import shap\n",
    "#import colors\n",
    "pd.set_option('display.max_rows', 100)\n",
    "pd.set_option('display.max_columns', 200)\n",
    "\n",
    "params = {'axes.labelsize': 14,\n",
    "          'axes.titlesize': 14,\n",
    "         'xtick.labelsize': 14,\n",
    "         'ytick.labelsize': 14}\n",
    "plt.rcParams.update(params)"
   ]
  },
  {
   "cell_type": "code",
   "execution_count": 2,
   "metadata": {},
   "outputs": [],
   "source": [
    "# Get raw data from csv file\n",
    "df = wrangle.get_raw_data()"
   ]
  },
  {
   "cell_type": "code",
   "execution_count": 3,
   "metadata": {},
   "outputs": [],
   "source": [
    "# Get data dictionary:\n",
    "data_dict = pd.read_csv('data/WiDS Datathon 2020 Dictionary.csv')"
   ]
  },
  {
   "cell_type": "code",
   "execution_count": 4,
   "metadata": {},
   "outputs": [],
   "source": [
    "# Get the list of categorical features\n",
    "\n",
    "df_obj = data_dict[(data_dict['Data Type'] == 'string') | (data_dict['Data Type'] == 'binary')]\n",
    "cat_features = list(df_obj['Variable Name'].values)\n",
    "for c in cat_features:\n",
    "    if c not in data_dict.columns or c == 'hospital_death':\n",
    "        cat_features.remove(c)\n",
    "cat_features.remove('bmi')"
   ]
  },
  {
   "cell_type": "code",
   "execution_count": 5,
   "metadata": {},
   "outputs": [],
   "source": [
    "# Some data cleaning and processing done, but no imputation\n",
    "df = wrangle.prepare_data(df)"
   ]
  },
  {
   "cell_type": "code",
   "execution_count": 6,
   "metadata": {},
   "outputs": [],
   "source": [
    "# Create new features\n",
    "df['gcs'] = df.gcs_eyes_apache + df.gcs_motor_apache + df.gcs_verbal_apache\n",
    "df['almost_dead'] = np.where(((df.temp_apache <= 38) & ((df.ph_apache < 7.1) | (df.ph_apache < 7.3 )) & (df.temp_apache<35) |((df.ph_apache < 7.1 )) & (df.map_apache < 50) | ((df.ph_apache < 7.2 )) & (df.gcs < 5) | (df.pre_icu_los_days > 40)) | ((df.d1_lactate_max > 8) | (df.d1_lactate_min > 10)),True,False)\n",
    "df['arterial_bp'] = np.where((df.d1_mbp_invasive_max.notnull()), True, False)\n",
    "df['ventilated_apache'] = np.where(((df['ventilated_apache'].isnull()) & (df.h1_arterial_po2_min.notnull())), 1.0, df['ventilated_apache'])\n",
    "df['ventilated_apache'] = np.where((df['ventilated_apache'].isnull()), 0.0, df['ventilated_apache'])\n",
    "df['bool_'+ 'h1_lactate_max'] = np.where(pd.notnull(df['h1_lactate_max']), True, False)"
   ]
  },
  {
   "cell_type": "code",
   "execution_count": 7,
   "metadata": {},
   "outputs": [],
   "source": [
    "#consolidate some categories for icu_type and 'hospital_admit_source'\n",
    "\n",
    "df['icu_type']=df['icu_type'].replace({'CTICU':'CCU-CTICU',\n",
    "                                              'Cardiac ICU':'CCT-CTICU',\n",
    "                                              'CTICU':'CCT-CTICU',\n",
    "                                              'CSICU':'SICU'})\n",
    "\n",
    "df['hospital_admit_source']= df['hospital_admit_source'].replace({\n",
    "                                        'Other ICU':\"ICU\",'ICU to SDU':\"SDU\",\n",
    "                                       'Step-Down Unit (SDU)':\"SDU\",\n",
    "                                      'Acute Care/Floor':\"Floor\",\n",
    "                                      'Other Hospital':\"Other\"})"
   ]
  },
  {
   "cell_type": "code",
   "execution_count": 8,
   "metadata": {},
   "outputs": [],
   "source": [
    "# list of variables missing more than 80% values\n",
    "missing = []\n",
    "for col in df.columns:\n",
    "    if df[col].isnull().mean() > 0.8:\n",
    "        missing.append(col)"
   ]
  },
  {
   "cell_type": "code",
   "execution_count": 20,
   "metadata": {},
   "outputs": [],
   "source": [
    "# other columns to remove\n",
    "to_remove=['icu_id','patient_id',\n",
    "           'encounter_id',\n",
    "           'apache_4a_hospital_death_prob',\n",
    "           'readmission_status', \n",
    "           'apache_2_bodysystem', \n",
    "           'hospital_id' ]"
   ]
  },
  {
   "cell_type": "code",
   "execution_count": 10,
   "metadata": {},
   "outputs": [
    {
     "data": {
      "text/plain": [
       "Index(['113.0', '301.0', '302.0', '112.0', '308.0', '117.0', '124.0', '122.0',\n",
       "       '303.0', '110.0', '304.0', '203.0', '202.0', '106.0', '305.0', '114.0',\n",
       "       '121.0', '123.0', '102.0', '307.0', '119.0', '120.0', '118.0', '108.0',\n",
       "       '214.0', '109.0', '105.0', '213.0', '207.0', '306.0', '218.0', '217.0',\n",
       "       '209.0', '219.0', '101.0', '104.0', '103.0', '115.0', '116.0', '107.0',\n",
       "       '215.0', '208.0', '212.0', '216.0'],\n",
       "      dtype='object')"
      ]
     },
     "execution_count": 10,
     "metadata": {},
     "output_type": "execute_result"
    }
   ],
   "source": [
    "# get list of diagnosis in data\n",
    "diagnosis = df.apache_2_diagnosis.value_counts().index\n",
    "diagnosis = diagnosis.astype(str)\n",
    "diagnosis"
   ]
  },
  {
   "cell_type": "code",
   "execution_count": 12,
   "metadata": {},
   "outputs": [],
   "source": [
    "#list of variables identified, values of which will be identified against the mean for patients with same diagnosis\n",
    "apache = [ 'age', 'bmi', 'height','weight', 'albumin_apache','arf_apache','bilirubin_apache','bun_apache',\n",
    "          'creatinine_apache','fio2_apache','glucose_apache', 'heart_rate_apache','hematocrit_apache',\n",
    "         'intubated_apache', 'map_apache','paco2_apache','pao2_apache','ph_apache','resprate_apache',\n",
    "          'sodium_apache','temp_apache','urineoutput_apache','ventilated_apache', 'wbc_apache']"
   ]
  },
  {
   "cell_type": "code",
   "execution_count": 13,
   "metadata": {},
   "outputs": [],
   "source": [
    "# create a empty dataframe (with NaNs) with index as apache variables and columns as diagnosis\n",
    "df_means = pd.DataFrame(index=apache, columns= diagnosis)"
   ]
  },
  {
   "cell_type": "code",
   "execution_count": 14,
   "metadata": {},
   "outputs": [
    {
     "data": {
      "text/html": [
       "<div>\n",
       "<style scoped>\n",
       "    .dataframe tbody tr th:only-of-type {\n",
       "        vertical-align: middle;\n",
       "    }\n",
       "\n",
       "    .dataframe tbody tr th {\n",
       "        vertical-align: top;\n",
       "    }\n",
       "\n",
       "    .dataframe thead th {\n",
       "        text-align: right;\n",
       "    }\n",
       "</style>\n",
       "<table border=\"1\" class=\"dataframe\">\n",
       "  <thead>\n",
       "    <tr style=\"text-align: right;\">\n",
       "      <th></th>\n",
       "      <th>113.0</th>\n",
       "      <th>301.0</th>\n",
       "      <th>302.0</th>\n",
       "      <th>112.0</th>\n",
       "      <th>308.0</th>\n",
       "      <th>117.0</th>\n",
       "      <th>124.0</th>\n",
       "      <th>122.0</th>\n",
       "      <th>303.0</th>\n",
       "      <th>110.0</th>\n",
       "      <th>304.0</th>\n",
       "      <th>203.0</th>\n",
       "      <th>202.0</th>\n",
       "      <th>106.0</th>\n",
       "      <th>305.0</th>\n",
       "      <th>114.0</th>\n",
       "      <th>121.0</th>\n",
       "      <th>123.0</th>\n",
       "      <th>102.0</th>\n",
       "      <th>307.0</th>\n",
       "      <th>119.0</th>\n",
       "      <th>120.0</th>\n",
       "      <th>118.0</th>\n",
       "      <th>108.0</th>\n",
       "      <th>214.0</th>\n",
       "      <th>109.0</th>\n",
       "      <th>105.0</th>\n",
       "      <th>213.0</th>\n",
       "      <th>207.0</th>\n",
       "      <th>306.0</th>\n",
       "      <th>218.0</th>\n",
       "      <th>217.0</th>\n",
       "      <th>209.0</th>\n",
       "      <th>219.0</th>\n",
       "      <th>101.0</th>\n",
       "      <th>104.0</th>\n",
       "      <th>103.0</th>\n",
       "      <th>115.0</th>\n",
       "      <th>116.0</th>\n",
       "      <th>107.0</th>\n",
       "      <th>215.0</th>\n",
       "      <th>208.0</th>\n",
       "      <th>212.0</th>\n",
       "      <th>216.0</th>\n",
       "    </tr>\n",
       "  </thead>\n",
       "  <tbody>\n",
       "    <tr>\n",
       "      <td>age</td>\n",
       "      <td>64.6395</td>\n",
       "      <td>63.3042</td>\n",
       "      <td>63.2816</td>\n",
       "      <td>63.748</td>\n",
       "      <td>63.7793</td>\n",
       "      <td>69.7777</td>\n",
       "      <td>66.4985</td>\n",
       "      <td>41.9204</td>\n",
       "      <td>62.2462</td>\n",
       "      <td>68.8166</td>\n",
       "      <td>61.621</td>\n",
       "      <td>69.3032</td>\n",
       "      <td>68.8343</td>\n",
       "      <td>65.558</td>\n",
       "      <td>58.7136</td>\n",
       "      <td>62.5583</td>\n",
       "      <td>66.0796</td>\n",
       "      <td>43.7127</td>\n",
       "      <td>66.9973</td>\n",
       "      <td>60.3408</td>\n",
       "      <td>57.4853</td>\n",
       "      <td>52.1251</td>\n",
       "      <td>53.2238</td>\n",
       "      <td>63.3758</td>\n",
       "      <td>68.1451</td>\n",
       "      <td>56.4745</td>\n",
       "      <td>61.6461</td>\n",
       "      <td>66.2956</td>\n",
       "      <td>54.7947</td>\n",
       "      <td>61.2651</td>\n",
       "      <td>57.434</td>\n",
       "      <td>59.9051</td>\n",
       "      <td>64.62</td>\n",
       "      <td>61.2571</td>\n",
       "      <td>44.573</td>\n",
       "      <td>67.8795</td>\n",
       "      <td>59.6049</td>\n",
       "      <td>66.5285</td>\n",
       "      <td>65.6256</td>\n",
       "      <td>63.9492</td>\n",
       "      <td>68.6497</td>\n",
       "      <td>49.6942</td>\n",
       "      <td>60.7653</td>\n",
       "      <td>53.3462</td>\n",
       "    </tr>\n",
       "    <tr>\n",
       "      <td>bmi</td>\n",
       "      <td>29.1053</td>\n",
       "      <td>28.9512</td>\n",
       "      <td>29.7945</td>\n",
       "      <td>29.4347</td>\n",
       "      <td>30.5397</td>\n",
       "      <td>29.4761</td>\n",
       "      <td>28.0408</td>\n",
       "      <td>27.844</td>\n",
       "      <td>29.068</td>\n",
       "      <td>31.4086</td>\n",
       "      <td>29.5544</td>\n",
       "      <td>29.1144</td>\n",
       "      <td>28.468</td>\n",
       "      <td>28.8172</td>\n",
       "      <td>31.3788</td>\n",
       "      <td>29.9581</td>\n",
       "      <td>27.4484</td>\n",
       "      <td>27.2402</td>\n",
       "      <td>30.0142</td>\n",
       "      <td>28.502</td>\n",
       "      <td>26.4958</td>\n",
       "      <td>27.7413</td>\n",
       "      <td>27.9283</td>\n",
       "      <td>30.1016</td>\n",
       "      <td>28.0588</td>\n",
       "      <td>30.8019</td>\n",
       "      <td>32.7656</td>\n",
       "      <td>28.4348</td>\n",
       "      <td>27.7849</td>\n",
       "      <td>28.3742</td>\n",
       "      <td>30.0609</td>\n",
       "      <td>28.414</td>\n",
       "      <td>28.2362</td>\n",
       "      <td>30.5285</td>\n",
       "      <td>31.506</td>\n",
       "      <td>26.8084</td>\n",
       "      <td>31.486</td>\n",
       "      <td>29.1809</td>\n",
       "      <td>28.2941</td>\n",
       "      <td>25.8731</td>\n",
       "      <td>29.5407</td>\n",
       "      <td>27.0977</td>\n",
       "      <td>29.0655</td>\n",
       "      <td>27.1413</td>\n",
       "    </tr>\n",
       "  </tbody>\n",
       "</table>\n",
       "</div>"
      ],
      "text/plain": [
       "       113.0    301.0    302.0    112.0    308.0    117.0    124.0    122.0  \\\n",
       "age  64.6395  63.3042  63.2816   63.748  63.7793  69.7777  66.4985  41.9204   \n",
       "bmi  29.1053  28.9512  29.7945  29.4347  30.5397  29.4761  28.0408   27.844   \n",
       "\n",
       "       303.0    110.0    304.0    203.0    202.0    106.0    305.0    114.0  \\\n",
       "age  62.2462  68.8166   61.621  69.3032  68.8343   65.558  58.7136  62.5583   \n",
       "bmi   29.068  31.4086  29.5544  29.1144   28.468  28.8172  31.3788  29.9581   \n",
       "\n",
       "       121.0    123.0    102.0    307.0    119.0    120.0    118.0    108.0  \\\n",
       "age  66.0796  43.7127  66.9973  60.3408  57.4853  52.1251  53.2238  63.3758   \n",
       "bmi  27.4484  27.2402  30.0142   28.502  26.4958  27.7413  27.9283  30.1016   \n",
       "\n",
       "       214.0    109.0    105.0    213.0    207.0    306.0    218.0    217.0  \\\n",
       "age  68.1451  56.4745  61.6461  66.2956  54.7947  61.2651   57.434  59.9051   \n",
       "bmi  28.0588  30.8019  32.7656  28.4348  27.7849  28.3742  30.0609   28.414   \n",
       "\n",
       "       209.0    219.0   101.0    104.0    103.0    115.0    116.0    107.0  \\\n",
       "age    64.62  61.2571  44.573  67.8795  59.6049  66.5285  65.6256  63.9492   \n",
       "bmi  28.2362  30.5285  31.506  26.8084   31.486  29.1809  28.2941  25.8731   \n",
       "\n",
       "       215.0    208.0    212.0    216.0  \n",
       "age  68.6497  49.6942  60.7653  53.3462  \n",
       "bmi  29.5407  27.0977  29.0655  27.1413  "
      ]
     },
     "execution_count": 14,
     "metadata": {},
     "output_type": "execute_result"
    }
   ],
   "source": [
    "# Fill the empty dataframe created above with mean values of for patients with same diagnosis:\n",
    "for d in diagnosis:\n",
    "    for a in apache:\n",
    "        df_means[d][a] = df[df.apache_2_diagnosis == float(d)][a].mean()\n",
    "\n",
    "df_means.head(2)"
   ]
  },
  {
   "cell_type": "code",
   "execution_count": 22,
   "metadata": {},
   "outputs": [],
   "source": [
    "# create new columns named diff_col_name which is difference between apache variables and\n",
    "# corresponding mean values for patients with same diagnosis:\n",
    "for a in apache:\n",
    "    for d in diagnosis:\n",
    "        df['diff_'+ a] = np.where(df[a].notnull(), df_means[d][a]-df[a], 0)"
   ]
  },
  {
   "cell_type": "code",
   "execution_count": 15,
   "metadata": {},
   "outputs": [],
   "source": [
    "# drop columns which are missing more than 80% values\n",
    "df.drop(columns = missing,axis=1,inplace=True)"
   ]
  },
  {
   "cell_type": "code",
   "execution_count": 16,
   "metadata": {},
   "outputs": [],
   "source": [
    "# Drop columns with 'invasive in their names since they are redundant'\n",
    "inv_cols=[s for s in df.columns.tolist() if \"invasive\" in s]\n",
    "df.drop(inv_cols,axis=1,inplace=True)"
   ]
  },
  {
   "cell_type": "code",
   "execution_count": 17,
   "metadata": {},
   "outputs": [],
   "source": [
    "# all features/columns in df\n",
    "features = [col for col in df.columns]"
   ]
  },
  {
   "cell_type": "code",
   "execution_count": 18,
   "metadata": {},
   "outputs": [],
   "source": [
    "# Function which takes all numerical columns and returns columns with correlation higher than 0.99\n",
    "def drop_correlated_features(df):\n",
    "    num_feature = [col for col in features if col not in cat_features and df[col].dtype != 'object']\n",
    "    drop_columns=[]\n",
    "    corr = df[num_feature].corr()\n",
    "\n",
    "    columns = np.full((corr.shape[0],), True, dtype=bool)\n",
    "\n",
    "    for i in range(corr.shape[0]):\n",
    "        for j in range(i+1, corr.shape[0]):\n",
    "            if corr.iloc[i,j] >=0.99 :\n",
    "                if columns[j] == True:\n",
    "                    columns[j] = False\n",
    "                    print('col1: {} col2: {} - Correlation: {}'.format(df[num_feature].columns[i] , df[num_feature].columns[j], corr.iloc[i,j]))\n",
    "            elif corr.iloc[i,j] <= -0.99:\n",
    "                if columns[j] == True:\n",
    "                    columns[j] = False\n",
    "\n",
    "    drop_columns = df[num_feature].columns[columns == False].values\n",
    "    return drop_columns"
   ]
  },
  {
   "cell_type": "code",
   "execution_count": 19,
   "metadata": {},
   "outputs": [
    {
     "name": "stdout",
     "output_type": "stream",
     "text": [
      "col1: bilirubin_apache col2: d1_bilirubin_max - Correlation: 0.9965677029378415\n",
      "col1: bun_apache col2: d1_bun_max - Correlation: 0.9911211474368951\n",
      "col1: creatinine_apache col2: d1_creatinine_max - Correlation: 0.9941463711670832\n",
      "col1: paco2_apache col2: paco2_for_ph_apache - Correlation: 1.0\n",
      "col1: d1_inr_max col2: h1_inr_max - Correlation: 1.0\n",
      "col1: d1_inr_min col2: h1_inr_min - Correlation: 1.0\n"
     ]
    }
   ],
   "source": [
    "#list of correlated columns returned from function above\n",
    "drop_columns = drop_correlated_features(df)"
   ]
  },
  {
   "cell_type": "code",
   "execution_count": 23,
   "metadata": {},
   "outputs": [
    {
     "ename": "KeyError",
     "evalue": "\"['diff_ventilated_apache'] not found in axis\"",
     "output_type": "error",
     "traceback": [
      "\u001b[0;31m---------------------------------------------------------------------------\u001b[0m",
      "\u001b[0;31mKeyError\u001b[0m                                  Traceback (most recent call last)",
      "\u001b[0;32m<ipython-input-23-dd72a4b730a2>\u001b[0m in \u001b[0;36m<module>\u001b[0;34m\u001b[0m\n\u001b[1;32m      4\u001b[0m \u001b[0;34m\u001b[0m\u001b[0m\n\u001b[1;32m      5\u001b[0m \u001b[0;31m# drop diff_ventilated_apache columns since it is categorical\u001b[0m\u001b[0;34m\u001b[0m\u001b[0;34m\u001b[0m\u001b[0;34m\u001b[0m\u001b[0m\n\u001b[0;32m----> 6\u001b[0;31m \u001b[0mdf\u001b[0m \u001b[0;34m=\u001b[0m \u001b[0mdf\u001b[0m\u001b[0;34m.\u001b[0m\u001b[0mdrop\u001b[0m\u001b[0;34m(\u001b[0m\u001b[0mcolumns\u001b[0m \u001b[0;34m=\u001b[0m \u001b[0;34m'diff_ventilated_apache'\u001b[0m\u001b[0;34m)\u001b[0m\u001b[0;34m\u001b[0m\u001b[0;34m\u001b[0m\u001b[0m\n\u001b[0m\u001b[1;32m      7\u001b[0m \u001b[0mdf\u001b[0m \u001b[0;34m=\u001b[0m \u001b[0mdf\u001b[0m\u001b[0;34m.\u001b[0m\u001b[0mdrop\u001b[0m\u001b[0;34m(\u001b[0m\u001b[0mcolumns\u001b[0m \u001b[0;34m=\u001b[0m \u001b[0mto_remove\u001b[0m\u001b[0;34m)\u001b[0m\u001b[0;34m\u001b[0m\u001b[0;34m\u001b[0m\u001b[0m\n",
      "\u001b[0;32m/usr/local/anaconda3/lib/python3.7/site-packages/pandas/core/frame.py\u001b[0m in \u001b[0;36mdrop\u001b[0;34m(self, labels, axis, index, columns, level, inplace, errors)\u001b[0m\n\u001b[1;32m   4100\u001b[0m             \u001b[0mlevel\u001b[0m\u001b[0;34m=\u001b[0m\u001b[0mlevel\u001b[0m\u001b[0;34m,\u001b[0m\u001b[0;34m\u001b[0m\u001b[0;34m\u001b[0m\u001b[0m\n\u001b[1;32m   4101\u001b[0m             \u001b[0minplace\u001b[0m\u001b[0;34m=\u001b[0m\u001b[0minplace\u001b[0m\u001b[0;34m,\u001b[0m\u001b[0;34m\u001b[0m\u001b[0;34m\u001b[0m\u001b[0m\n\u001b[0;32m-> 4102\u001b[0;31m             \u001b[0merrors\u001b[0m\u001b[0;34m=\u001b[0m\u001b[0merrors\u001b[0m\u001b[0;34m,\u001b[0m\u001b[0;34m\u001b[0m\u001b[0;34m\u001b[0m\u001b[0m\n\u001b[0m\u001b[1;32m   4103\u001b[0m         )\n\u001b[1;32m   4104\u001b[0m \u001b[0;34m\u001b[0m\u001b[0m\n",
      "\u001b[0;32m/usr/local/anaconda3/lib/python3.7/site-packages/pandas/core/generic.py\u001b[0m in \u001b[0;36mdrop\u001b[0;34m(self, labels, axis, index, columns, level, inplace, errors)\u001b[0m\n\u001b[1;32m   3912\u001b[0m         \u001b[0;32mfor\u001b[0m \u001b[0maxis\u001b[0m\u001b[0;34m,\u001b[0m \u001b[0mlabels\u001b[0m \u001b[0;32min\u001b[0m \u001b[0maxes\u001b[0m\u001b[0;34m.\u001b[0m\u001b[0mitems\u001b[0m\u001b[0;34m(\u001b[0m\u001b[0;34m)\u001b[0m\u001b[0;34m:\u001b[0m\u001b[0;34m\u001b[0m\u001b[0;34m\u001b[0m\u001b[0m\n\u001b[1;32m   3913\u001b[0m             \u001b[0;32mif\u001b[0m \u001b[0mlabels\u001b[0m \u001b[0;32mis\u001b[0m \u001b[0;32mnot\u001b[0m \u001b[0;32mNone\u001b[0m\u001b[0;34m:\u001b[0m\u001b[0;34m\u001b[0m\u001b[0;34m\u001b[0m\u001b[0m\n\u001b[0;32m-> 3914\u001b[0;31m                 \u001b[0mobj\u001b[0m \u001b[0;34m=\u001b[0m \u001b[0mobj\u001b[0m\u001b[0;34m.\u001b[0m\u001b[0m_drop_axis\u001b[0m\u001b[0;34m(\u001b[0m\u001b[0mlabels\u001b[0m\u001b[0;34m,\u001b[0m \u001b[0maxis\u001b[0m\u001b[0;34m,\u001b[0m \u001b[0mlevel\u001b[0m\u001b[0;34m=\u001b[0m\u001b[0mlevel\u001b[0m\u001b[0;34m,\u001b[0m \u001b[0merrors\u001b[0m\u001b[0;34m=\u001b[0m\u001b[0merrors\u001b[0m\u001b[0;34m)\u001b[0m\u001b[0;34m\u001b[0m\u001b[0;34m\u001b[0m\u001b[0m\n\u001b[0m\u001b[1;32m   3915\u001b[0m \u001b[0;34m\u001b[0m\u001b[0m\n\u001b[1;32m   3916\u001b[0m         \u001b[0;32mif\u001b[0m \u001b[0minplace\u001b[0m\u001b[0;34m:\u001b[0m\u001b[0;34m\u001b[0m\u001b[0;34m\u001b[0m\u001b[0m\n",
      "\u001b[0;32m/usr/local/anaconda3/lib/python3.7/site-packages/pandas/core/generic.py\u001b[0m in \u001b[0;36m_drop_axis\u001b[0;34m(self, labels, axis, level, errors)\u001b[0m\n\u001b[1;32m   3944\u001b[0m                 \u001b[0mnew_axis\u001b[0m \u001b[0;34m=\u001b[0m \u001b[0maxis\u001b[0m\u001b[0;34m.\u001b[0m\u001b[0mdrop\u001b[0m\u001b[0;34m(\u001b[0m\u001b[0mlabels\u001b[0m\u001b[0;34m,\u001b[0m \u001b[0mlevel\u001b[0m\u001b[0;34m=\u001b[0m\u001b[0mlevel\u001b[0m\u001b[0;34m,\u001b[0m \u001b[0merrors\u001b[0m\u001b[0;34m=\u001b[0m\u001b[0merrors\u001b[0m\u001b[0;34m)\u001b[0m\u001b[0;34m\u001b[0m\u001b[0;34m\u001b[0m\u001b[0m\n\u001b[1;32m   3945\u001b[0m             \u001b[0;32melse\u001b[0m\u001b[0;34m:\u001b[0m\u001b[0;34m\u001b[0m\u001b[0;34m\u001b[0m\u001b[0m\n\u001b[0;32m-> 3946\u001b[0;31m                 \u001b[0mnew_axis\u001b[0m \u001b[0;34m=\u001b[0m \u001b[0maxis\u001b[0m\u001b[0;34m.\u001b[0m\u001b[0mdrop\u001b[0m\u001b[0;34m(\u001b[0m\u001b[0mlabels\u001b[0m\u001b[0;34m,\u001b[0m \u001b[0merrors\u001b[0m\u001b[0;34m=\u001b[0m\u001b[0merrors\u001b[0m\u001b[0;34m)\u001b[0m\u001b[0;34m\u001b[0m\u001b[0;34m\u001b[0m\u001b[0m\n\u001b[0m\u001b[1;32m   3947\u001b[0m             \u001b[0mresult\u001b[0m \u001b[0;34m=\u001b[0m \u001b[0mself\u001b[0m\u001b[0;34m.\u001b[0m\u001b[0mreindex\u001b[0m\u001b[0;34m(\u001b[0m\u001b[0;34m**\u001b[0m\u001b[0;34m{\u001b[0m\u001b[0maxis_name\u001b[0m\u001b[0;34m:\u001b[0m \u001b[0mnew_axis\u001b[0m\u001b[0;34m}\u001b[0m\u001b[0;34m)\u001b[0m\u001b[0;34m\u001b[0m\u001b[0;34m\u001b[0m\u001b[0m\n\u001b[1;32m   3948\u001b[0m \u001b[0;34m\u001b[0m\u001b[0m\n",
      "\u001b[0;32m/usr/local/anaconda3/lib/python3.7/site-packages/pandas/core/indexes/base.py\u001b[0m in \u001b[0;36mdrop\u001b[0;34m(self, labels, errors)\u001b[0m\n\u001b[1;32m   5338\u001b[0m         \u001b[0;32mif\u001b[0m \u001b[0mmask\u001b[0m\u001b[0;34m.\u001b[0m\u001b[0many\u001b[0m\u001b[0;34m(\u001b[0m\u001b[0;34m)\u001b[0m\u001b[0;34m:\u001b[0m\u001b[0;34m\u001b[0m\u001b[0;34m\u001b[0m\u001b[0m\n\u001b[1;32m   5339\u001b[0m             \u001b[0;32mif\u001b[0m \u001b[0merrors\u001b[0m \u001b[0;34m!=\u001b[0m \u001b[0;34m\"ignore\"\u001b[0m\u001b[0;34m:\u001b[0m\u001b[0;34m\u001b[0m\u001b[0;34m\u001b[0m\u001b[0m\n\u001b[0;32m-> 5340\u001b[0;31m                 \u001b[0;32mraise\u001b[0m \u001b[0mKeyError\u001b[0m\u001b[0;34m(\u001b[0m\u001b[0;34m\"{} not found in axis\"\u001b[0m\u001b[0;34m.\u001b[0m\u001b[0mformat\u001b[0m\u001b[0;34m(\u001b[0m\u001b[0mlabels\u001b[0m\u001b[0;34m[\u001b[0m\u001b[0mmask\u001b[0m\u001b[0;34m]\u001b[0m\u001b[0;34m)\u001b[0m\u001b[0;34m)\u001b[0m\u001b[0;34m\u001b[0m\u001b[0;34m\u001b[0m\u001b[0m\n\u001b[0m\u001b[1;32m   5341\u001b[0m             \u001b[0mindexer\u001b[0m \u001b[0;34m=\u001b[0m \u001b[0mindexer\u001b[0m\u001b[0;34m[\u001b[0m\u001b[0;34m~\u001b[0m\u001b[0mmask\u001b[0m\u001b[0;34m]\u001b[0m\u001b[0;34m\u001b[0m\u001b[0;34m\u001b[0m\u001b[0m\n\u001b[1;32m   5342\u001b[0m         \u001b[0;32mreturn\u001b[0m \u001b[0mself\u001b[0m\u001b[0;34m.\u001b[0m\u001b[0mdelete\u001b[0m\u001b[0;34m(\u001b[0m\u001b[0mindexer\u001b[0m\u001b[0;34m)\u001b[0m\u001b[0;34m\u001b[0m\u001b[0;34m\u001b[0m\u001b[0m\n",
      "\u001b[0;31mKeyError\u001b[0m: \"['diff_ventilated_apache'] not found in axis\""
     ]
    }
   ],
   "source": [
    "#drop columns identified above\n",
    "features = [col for col in features if col not in drop_columns]\n",
    "df = df[features]\n",
    "\n",
    "# drop diff_ventilated_apache columns since it is categorical\n",
    "df = df.drop(columns = 'diff_ventilated_apache')\n",
    "df = df.drop(columns = to_remove)"
   ]
  },
  {
   "cell_type": "code",
   "execution_count": null,
   "metadata": {},
   "outputs": [],
   "source": []
  }
 ],
 "metadata": {
  "kernelspec": {
   "display_name": "Python 3",
   "language": "python",
   "name": "python3"
  },
  "language_info": {
   "codemirror_mode": {
    "name": "ipython",
    "version": 3
   },
   "file_extension": ".py",
   "mimetype": "text/x-python",
   "name": "python",
   "nbconvert_exporter": "python",
   "pygments_lexer": "ipython3",
   "version": "3.7.4"
  },
  "toc": {
   "base_numbering": 1,
   "nav_menu": {},
   "number_sections": true,
   "sideBar": true,
   "skip_h1_title": false,
   "title_cell": "Table of Contents",
   "title_sidebar": "Contents",
   "toc_cell": false,
   "toc_position": {},
   "toc_section_display": true,
   "toc_window_display": false
  }
 },
 "nbformat": 4,
 "nbformat_minor": 2
}
