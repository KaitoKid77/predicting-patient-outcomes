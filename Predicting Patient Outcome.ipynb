{
 "cells": [
  {
   "cell_type": "markdown",
   "metadata": {},
   "source": [
    "# Project Goals\n",
    "## Overview\n",
    "## The Problem: Finding a Needle in a Haystack"
   ]
  },
  {
   "cell_type": "markdown",
   "metadata": {},
   "source": [
    "# The Data: First Look"
   ]
  },
  {
   "cell_type": "markdown",
   "metadata": {},
   "source": [
    "Let's get our data into a dataframe to examin it:"
   ]
  },
  {
   "cell_type": "code",
   "execution_count": 1,
   "metadata": {},
   "outputs": [],
   "source": [
    "import src.wrangle\n",
    "df = src.wrangle.get_raw_data()"
   ]
  },
  {
   "cell_type": "markdown",
   "metadata": {},
   "source": [
    "## Size of the Raw Data"
   ]
  },
  {
   "cell_type": "code",
   "execution_count": 2,
   "metadata": {},
   "outputs": [
    {
     "name": "stdout",
     "output_type": "stream",
     "text": [
      "Number of Columns: 185, Number of Rows: 91713\n"
     ]
    }
   ],
   "source": [
    "print(f'''Number of Columns: {df.shape[1]}, Number of Rows: {df.shape[0]}''')"
   ]
  },
  {
   "cell_type": "markdown",
   "metadata": {},
   "source": [
    "> This means that we have *91,713* patients in our dataset, with *185* metrics recorded for each of them within that 24 hour period. That's quite a bit of data."
   ]
  },
  {
   "cell_type": "markdown",
   "metadata": {},
   "source": [
    "## Imbalanced Data"
   ]
  },
  {
   "cell_type": "markdown",
   "metadata": {},
   "source": [
    "Our goal for this project is to predict patient survivability, so what does that distribution look like in our data?"
   ]
  },
  {
   "cell_type": "code",
   "execution_count": 3,
   "metadata": {},
   "outputs": [
    {
     "name": "stdout",
     "output_type": "stream",
     "text": [
      "Percentage of patients who did not survive:  0.09\n"
     ]
    }
   ],
   "source": [
    "num_patients_died = len(df[df.hospital_death == 1])\n",
    "print('Percentage of patients who did not survive: {: .2f}'.format(num_patients_died / len(df)))"
   ]
  },
  {
   "cell_type": "markdown",
   "metadata": {},
   "source": [
    ">*91* percent of the patients survived their time in the ICU, while only *9* percent did not. \n",
    "\n",
    "While this is great news in terms of ICU survival rates, it means we're dealing with an imbalanced dataset which is going to raise its own challenges as we move forward."
   ]
  },
  {
   "cell_type": "markdown",
   "metadata": {},
   "source": [
    "# Preparation: Challenges Faced and How We Handled Them"
   ]
  },
  {
   "cell_type": "markdown",
   "metadata": {},
   "source": [
    "## Null Values: A Different Beast in an Imbalanced Data Set\n",
    "Since our target value (patient survivability) we're attempting to predict is imbalanced in our dataset, this affects our ability to handle nulls through blanket fixes. What we'll have to do is correlate the significance of the missing values against our target value to identify if the missing values are actually playing a role in patient survivability. "
   ]
  },
  {
   "cell_type": "code",
   "execution_count": 6,
   "metadata": {
    "scrolled": true
   },
   "outputs": [
    {
     "name": "stdout",
     "output_type": "stream",
     "text": [
      "(encounter_id and hospital_death) are  independent of each other. (p = 0.4984475106646044)\n",
      "(hospital_id and hospital_death) are  dependent of each other. (p = 3.971188907548724e-148)\n",
      "(hospital_death and hospital_death) are  dependent of each other. (p = 0.0)\n",
      "(age and hospital_death) are  dependent of each other. (p = 4.3986226670688454e-204)\n",
      "(bmi and hospital_death) are  independent of each other. (p = 0.10323036630688469)\n",
      "(elective_surgery and hospital_death) are  dependent of each other. (p = 1.8111023373323387e-176)\n",
      "(ethnicity and hospital_death) are  dependent of each other. (p = 0.0031164745025517304)\n",
      "(gender and hospital_death) are  dependent of each other. (p = 0.03441709366041668)\n",
      "(height and hospital_death) are  dependent of each other. (p = 0.0021710052871524873)\n",
      "(hospital_admit_source and hospital_death) are  dependent of each other. (p = 1.2519350471326363e-197)\n",
      "(icu_admit_source and hospital_death) are  dependent of each other. (p = 3.7031521455538844e-243)\n",
      "(icu_id and hospital_death) are  dependent of each other. (p = 1.46929780290714e-216)\n",
      "(icu_stay_type and hospital_death) are  dependent of each other. (p = 3.6814347425011462e-06)\n",
      "(icu_type and hospital_death) are  dependent of each other. (p = 1.4519760772919953e-49)\n",
      "(pre_icu_los_days and hospital_death) are  dependent of each other. (p = 4.7867125211835496e-132)\n",
      "(readmission_status and hospital_death) are  independent of each other. (p = 1.0)\n",
      "(weight and hospital_death) are  dependent of each other. (p = 8.371091159070353e-12)\n",
      "(albumin_apache and hospital_death) are  dependent of each other. (p = 0.0)\n",
      "(apache_2_diagnosis and hospital_death) are  dependent of each other. (p = 0.0)\n",
      "(apache_3j_diagnosis and hospital_death) are  dependent of each other. (p = 0.0)\n",
      "(apache_post_operative and hospital_death) are  dependent of each other. (p = 1.6847425574384933e-141)\n",
      "(arf_apache and hospital_death) are  dependent of each other. (p = 2.358445321478141e-16)\n",
      "(bilirubin_apache and hospital_death) are  dependent of each other. (p = 1.0434206719743787e-148)\n",
      "(bun_apache and hospital_death) are  dependent of each other. (p = 0.0)\n",
      "(creatinine_apache and hospital_death) are  dependent of each other. (p = 0.0)\n",
      "(fio2_apache and hospital_death) are  dependent of each other. (p = 2.2731104565303985e-168)\n",
      "(gcs_eyes_apache and hospital_death) are  dependent of each other. (p = 0.0)\n",
      "(gcs_motor_apache and hospital_death) are  dependent of each other. (p = 0.0)\n",
      "(gcs_unable_apache and hospital_death) are  dependent of each other. (p = 2.1892372973026164e-54)\n",
      "(gcs_verbal_apache and hospital_death) are  dependent of each other. (p = 0.0)\n",
      "(glucose_apache and hospital_death) are  dependent of each other. (p = 6.386737201900535e-195)\n",
      "(heart_rate_apache and hospital_death) are  dependent of each other. (p = 0.0)\n",
      "(hematocrit_apache and hospital_death) are  dependent of each other. (p = 1.548510926529327e-74)\n",
      "(intubated_apache and hospital_death) are  dependent of each other. (p = 0.0)\n",
      "(map_apache and hospital_death) are  dependent of each other. (p = 0.0)\n",
      "(paco2_apache and hospital_death) are  dependent of each other. (p = 9.113125792687005e-42)\n",
      "(paco2_for_ph_apache and hospital_death) are  dependent of each other. (p = 9.113125792687005e-42)\n",
      "(pao2_apache and hospital_death) are  dependent of each other. (p = 7.365544998090974e-15)\n",
      "(ph_apache and hospital_death) are  dependent of each other. (p = 5.61380931486486e-242)\n",
      "(resprate_apache and hospital_death) are  dependent of each other. (p = 3.334953781268962e-188)\n",
      "(sodium_apache and hospital_death) are  dependent of each other. (p = 4.6551725273086556e-248)\n",
      "(temp_apache and hospital_death) are  dependent of each other. (p = 0.0)\n",
      "(urineoutput_apache and hospital_death) are  independent of each other. (p = 0.07067399459894323)\n",
      "(ventilated_apache and hospital_death) are  dependent of each other. (p = 0.0)\n",
      "(wbc_apache and hospital_death) are  dependent of each other. (p = 0.0)\n",
      "(d1_diasbp_invasive_max and hospital_death) are  dependent of each other. (p = 4.151622784320347e-27)\n",
      "(d1_diasbp_invasive_min and hospital_death) are  dependent of each other. (p = 3.331491963467639e-212)\n",
      "(d1_diasbp_max and hospital_death) are  dependent of each other. (p = 1.2223157199390261e-55)\n",
      "(d1_diasbp_min and hospital_death) are  dependent of each other. (p = 0.0)\n",
      "(d1_diasbp_noninvasive_max and hospital_death) are  dependent of each other. (p = 3.5054304590435465e-53)\n",
      "(d1_diasbp_noninvasive_min and hospital_death) are  dependent of each other. (p = 0.0)\n",
      "(d1_heartrate_max and hospital_death) are  dependent of each other. (p = 0.0)\n",
      "(d1_heartrate_min and hospital_death) are  dependent of each other. (p = 0.0)\n",
      "(d1_mbp_invasive_max and hospital_death) are  dependent of each other. (p = 9.198053109100994e-56)\n",
      "(d1_mbp_invasive_min and hospital_death) are  dependent of each other. (p = 1.159152500696686e-303)\n",
      "(d1_mbp_max and hospital_death) are  dependent of each other. (p = 3.818991004059267e-100)\n",
      "(d1_mbp_min and hospital_death) are  dependent of each other. (p = 0.0)\n",
      "(d1_mbp_noninvasive_max and hospital_death) are  dependent of each other. (p = 7.6230406736787555e-93)\n",
      "(d1_mbp_noninvasive_min and hospital_death) are  dependent of each other. (p = 0.0)\n",
      "(d1_resprate_max and hospital_death) are  dependent of each other. (p = 0.0)\n",
      "(d1_resprate_min and hospital_death) are  dependent of each other. (p = 0.0)\n",
      "(d1_spo2_max and hospital_death) are  dependent of each other. (p = 3.2047130633192186e-209)\n",
      "(d1_spo2_min and hospital_death) are  dependent of each other. (p = 0.0)\n",
      "(d1_sysbp_invasive_max and hospital_death) are  dependent of each other. (p = 3.0633428431828645e-81)\n",
      "(d1_sysbp_invasive_min and hospital_death) are  dependent of each other. (p = 0.0)\n",
      "(d1_sysbp_max and hospital_death) are  dependent of each other. (p = 2.507936657404783e-116)\n",
      "(d1_sysbp_min and hospital_death) are  dependent of each other. (p = 0.0)\n",
      "(d1_sysbp_noninvasive_max and hospital_death) are  dependent of each other. (p = 6.854996976034408e-110)\n",
      "(d1_sysbp_noninvasive_min and hospital_death) are  dependent of each other. (p = 0.0)\n",
      "(d1_temp_max and hospital_death) are  dependent of each other. (p = 0.0)\n",
      "(d1_temp_min and hospital_death) are  dependent of each other. (p = 0.0)\n",
      "(h1_diasbp_invasive_max and hospital_death) are  dependent of each other. (p = 7.02296542642422e-34)\n",
      "(h1_diasbp_invasive_min and hospital_death) are  dependent of each other. (p = 2.763681603851988e-19)\n",
      "(h1_diasbp_max and hospital_death) are  dependent of each other. (p = 2.5663359795638573e-100)\n",
      "(h1_diasbp_min and hospital_death) are  dependent of each other. (p = 0.0)\n",
      "(h1_diasbp_noninvasive_max and hospital_death) are  dependent of each other. (p = 1.0545188012266276e-100)\n",
      "(h1_diasbp_noninvasive_min and hospital_death) are  dependent of each other. (p = 0.0)\n",
      "(h1_heartrate_max and hospital_death) are  dependent of each other. (p = 6.607552227582763e-229)\n",
      "(h1_heartrate_min and hospital_death) are  dependent of each other. (p = 4.437596110756588e-165)\n",
      "(h1_mbp_invasive_max and hospital_death) are  dependent of each other. (p = 5.194329450304276e-60)\n",
      "(h1_mbp_invasive_min and hospital_death) are  dependent of each other. (p = 1.05154862930815e-59)\n",
      "(h1_mbp_max and hospital_death) are  dependent of each other. (p = 6.224927952835607e-182)\n",
      "(h1_mbp_min and hospital_death) are  dependent of each other. (p = 0.0)\n",
      "(h1_mbp_noninvasive_max and hospital_death) are  dependent of each other. (p = 1.3893556032894495e-163)\n",
      "(h1_mbp_noninvasive_min and hospital_death) are  dependent of each other. (p = 0.0)\n",
      "(h1_resprate_max and hospital_death) are  dependent of each other. (p = 0.0)\n",
      "(h1_resprate_min and hospital_death) are  dependent of each other. (p = 3.427369438368643e-269)\n",
      "(h1_spo2_max and hospital_death) are  dependent of each other. (p = 3.5292298830491224e-227)\n",
      "(h1_spo2_min and hospital_death) are  dependent of each other. (p = 0.0)\n",
      "(h1_sysbp_invasive_max and hospital_death) are  dependent of each other. (p = 2.8789080553774744e-64)\n",
      "(h1_sysbp_invasive_min and hospital_death) are  dependent of each other. (p = 2.9705222187852414e-59)\n",
      "(h1_sysbp_max and hospital_death) are  dependent of each other. (p = 7.624053554256449e-203)\n",
      "(h1_sysbp_min and hospital_death) are  dependent of each other. (p = 0.0)\n",
      "(h1_sysbp_noninvasive_max and hospital_death) are  dependent of each other. (p = 4.83297197215084e-182)\n",
      "(h1_sysbp_noninvasive_min and hospital_death) are  dependent of each other. (p = 0.0)\n",
      "(h1_temp_max and hospital_death) are  dependent of each other. (p = 0.0)\n",
      "(h1_temp_min and hospital_death) are  dependent of each other. (p = 0.0)\n",
      "(d1_albumin_max and hospital_death) are  dependent of each other. (p = 6.859150280616564e-281)\n",
      "(d1_albumin_min and hospital_death) are  dependent of each other. (p = 0.0)\n",
      "(d1_bilirubin_max and hospital_death) are  dependent of each other. (p = 6.817187257896686e-175)\n",
      "(d1_bilirubin_min and hospital_death) are  dependent of each other. (p = 1.7869567361663835e-152)\n",
      "(d1_bun_max and hospital_death) are  dependent of each other. (p = 0.0)\n",
      "(d1_bun_min and hospital_death) are  dependent of each other. (p = 0.0)\n",
      "(d1_calcium_max and hospital_death) are  dependent of each other. (p = 1.8212443271242305e-270)\n",
      "(d1_calcium_min and hospital_death) are  dependent of each other. (p = 0.0)\n",
      "(d1_creatinine_max and hospital_death) are  dependent of each other. (p = 0.0)\n",
      "(d1_creatinine_min and hospital_death) are  dependent of each other. (p = 0.0)\n",
      "(d1_glucose_max and hospital_death) are  dependent of each other. (p = 1.9842998271708244e-87)\n",
      "(d1_glucose_min and hospital_death) are  dependent of each other. (p = 4.852656766697774e-259)\n",
      "(d1_hco3_max and hospital_death) are  dependent of each other. (p = 0.0)\n",
      "(d1_hco3_min and hospital_death) are  dependent of each other. (p = 0.0)\n",
      "(d1_hemaglobin_max and hospital_death) are  dependent of each other. (p = 1.1570237506154355e-78)\n",
      "(d1_hemaglobin_min and hospital_death) are  dependent of each other. (p = 1.581065514242714e-131)\n",
      "(d1_hematocrit_max and hospital_death) are  dependent of each other. (p = 1.010069268547485e-50)\n",
      "(d1_hematocrit_min and hospital_death) are  dependent of each other. (p = 1.293400059624352e-74)\n",
      "(d1_inr_max and hospital_death) are  dependent of each other. (p = 4.9023928092217e-279)\n",
      "(d1_inr_min and hospital_death) are  dependent of each other. (p = 1.1187318444196601e-215)\n",
      "(d1_lactate_max and hospital_death) are  dependent of each other. (p = 0.0)\n",
      "(d1_lactate_min and hospital_death) are  dependent of each other. (p = 0.0)\n",
      "(d1_platelets_max and hospital_death) are  dependent of each other. (p = 6.729506031674349e-122)\n",
      "(d1_platelets_min and hospital_death) are  dependent of each other. (p = 6.187215928264051e-212)\n",
      "(d1_potassium_max and hospital_death) are  dependent of each other. (p = 0.0)\n",
      "(d1_potassium_min and hospital_death) are  dependent of each other. (p = 2.255791832367845e-305)\n",
      "(d1_sodium_max and hospital_death) are  dependent of each other. (p = 0.0)\n",
      "(d1_sodium_min and hospital_death) are  dependent of each other. (p = 4.884837142300971e-189)\n",
      "(d1_wbc_max and hospital_death) are  dependent of each other. (p = 0.0)\n",
      "(d1_wbc_min and hospital_death) are  dependent of each other. (p = 0.0)\n",
      "(h1_albumin_max and hospital_death) are  dependent of each other. (p = 4.649667517006721e-79)\n",
      "(h1_albumin_min and hospital_death) are  dependent of each other. (p = 5.149798287412513e-80)\n",
      "(h1_bilirubin_max and hospital_death) are  dependent of each other. (p = 7.323437682566028e-27)\n",
      "(h1_bilirubin_min and hospital_death) are  dependent of each other. (p = 3.409951566446384e-27)\n",
      "(h1_bun_max and hospital_death) are  dependent of each other. (p = 4.955098333592924e-71)\n",
      "(h1_bun_min and hospital_death) are  dependent of each other. (p = 2.630657366748216e-69)\n",
      "(h1_calcium_max and hospital_death) are  dependent of each other. (p = 3.2955503254997298e-31)\n",
      "(h1_calcium_min and hospital_death) are  dependent of each other. (p = 8.262171484215212e-31)\n",
      "(h1_creatinine_max and hospital_death) are  dependent of each other. (p = 9.56488740092735e-92)\n",
      "(h1_creatinine_min and hospital_death) are  dependent of each other. (p = 7.054790716302944e-89)\n",
      "(h1_glucose_max and hospital_death) are  dependent of each other. (p = 1.098856625994655e-20)\n",
      "(h1_glucose_min and hospital_death) are  dependent of each other. (p = 7.841955466357605e-33)\n",
      "(h1_hco3_max and hospital_death) are  dependent of each other. (p = 1.0117170655885045e-83)\n",
      "(h1_hco3_min and hospital_death) are  dependent of each other. (p = 3.6396323948006764e-87)\n",
      "(h1_hemaglobin_max and hospital_death) are  dependent of each other. (p = 7.187919773428453e-16)\n",
      "(h1_hemaglobin_min and hospital_death) are  dependent of each other. (p = 8.526341504356293e-12)\n",
      "(h1_hematocrit_max and hospital_death) are  dependent of each other. (p = 4.367187665487121e-18)\n",
      "(h1_hematocrit_min and hospital_death) are  dependent of each other. (p = 5.364020750390256e-13)\n",
      "(h1_inr_max and hospital_death) are  dependent of each other. (p = 4.9023928092217e-279)\n",
      "(h1_inr_min and hospital_death) are  dependent of each other. (p = 1.1187318444196601e-215)\n",
      "(h1_lactate_max and hospital_death) are  dependent of each other. (p = 2.4290905699955032e-82)\n",
      "(h1_lactate_min and hospital_death) are  dependent of each other. (p = 9.137894472561873e-85)\n",
      "(h1_platelets_max and hospital_death) are  dependent of each other. (p = 2.9091851010737754e-33)\n",
      "(h1_platelets_min and hospital_death) are  dependent of each other. (p = 8.896704595718239e-32)\n",
      "(h1_potassium_max and hospital_death) are  dependent of each other. (p = 3.645026656691046e-58)\n",
      "(h1_potassium_min and hospital_death) are  dependent of each other. (p = 4.728215224835154e-64)\n",
      "(h1_sodium_max and hospital_death) are  dependent of each other. (p = 2.8583272747926228e-37)\n",
      "(h1_sodium_min and hospital_death) are  dependent of each other. (p = 6.519203408375082e-29)\n",
      "(h1_wbc_max and hospital_death) are  dependent of each other. (p = 5.777010946834051e-45)\n",
      "(h1_wbc_min and hospital_death) are  dependent of each other. (p = 2.1151278546092026e-49)\n",
      "(d1_arterial_pco2_max and hospital_death) are  dependent of each other. (p = 2.462419604353378e-43)\n",
      "(d1_arterial_pco2_min and hospital_death) are  dependent of each other. (p = 2.4353157415211526e-70)\n",
      "(d1_arterial_ph_max and hospital_death) are  dependent of each other. (p = 8.157590455812573e-221)\n",
      "(d1_arterial_ph_min and hospital_death) are  dependent of each other. (p = 0.0)\n",
      "(d1_arterial_po2_max and hospital_death) are  dependent of each other. (p = 9.919643848526948e-19)\n",
      "(d1_arterial_po2_min and hospital_death) are  dependent of each other. (p = 1.5051207395365715e-31)\n",
      "(d1_pao2fio2ratio_max and hospital_death) are  dependent of each other. (p = 1.3088686864200245e-41)\n",
      "(d1_pao2fio2ratio_min and hospital_death) are  dependent of each other. (p = 4.6112076577751255e-35)\n",
      "(h1_arterial_pco2_max and hospital_death) are  dependent of each other. (p = 5.077251923525637e-39)\n",
      "(h1_arterial_pco2_min and hospital_death) are  dependent of each other. (p = 1.8910732822759164e-33)\n",
      "(h1_arterial_ph_max and hospital_death) are  dependent of each other. (p = 5.273298835066174e-124)\n",
      "(h1_arterial_ph_min and hospital_death) are  dependent of each other. (p = 1.0859954568678825e-131)\n",
      "(h1_arterial_po2_max and hospital_death) are  dependent of each other. (p = 3.8581531954069836e-14)\n",
      "(h1_arterial_po2_min and hospital_death) are  dependent of each other. (p = 5.211234542763258e-16)\n",
      "(h1_pao2fio2ratio_max and hospital_death) are  dependent of each other. (p = 2.8848680470034038e-05)\n",
      "(h1_pao2fio2ratio_min and hospital_death) are  dependent of each other. (p = 2.8200473250443677e-06)\n",
      "(apache_4a_hospital_death_prob and hospital_death) are  dependent of each other. (p = 0.0)\n",
      "(apache_4a_icu_death_prob and hospital_death) are  dependent of each other. (p = 0.0)\n",
      "(aids and hospital_death) are  independent of each other. (p = 0.2600204934109011)\n",
      "(cirrhosis and hospital_death) are  dependent of each other. (p = 2.0589866794437976e-32)\n",
      "(diabetes_mellitus and hospital_death) are  dependent of each other. (p = 2.061134966044744e-06)\n",
      "(hepatic_failure and hospital_death) are  dependent of each other. (p = 1.7857663059955913e-31)\n",
      "(immunosuppression and hospital_death) are  dependent of each other. (p = 6.051929777307242e-40)\n",
      "(leukemia and hospital_death) are  dependent of each other. (p = 4.865495171455472e-19)\n",
      "(lymphoma and hospital_death) are  dependent of each other. (p = 2.7690885536386856e-08)\n",
      "(solid_tumor_with_metastasis and hospital_death) are  dependent of each other. (p = 2.4229313146985304e-53)\n",
      "(apache_3j_bodysystem and hospital_death) are  dependent of each other. (p = 7.181186678624e-311)\n",
      "(apache_2_bodysystem and hospital_death) are  dependent of each other. (p = 7.756726484162669e-235)\n"
     ]
    }
   ],
   "source": [
    "import pandas as pd\n",
    "from scipy import stats\n",
    "# Set alpha value\n",
    "alpha = 0.05\n",
    "\n",
    "for col in df.columns:\n",
    "\n",
    "    a, b = df[col], df[\"hospital_death\"]\n",
    "\n",
    "    observed = pd.crosstab(a, b) \n",
    "    chi2, p, degf, expected = stats.chi2_contingency(observed)\n",
    "\n",
    "    if p < alpha:\n",
    "        # Reject the null hypothesis\n",
    "        print(\"({} and hospital_death) are  dependent of each other. (p = {})\".format(col, p))\n",
    "    else:\n",
    "         # Failed to reject the null hypothesis\n",
    "        print(\"({} and hospital_death) are  independent of each other. (p = {})\".format(col, p))"
   ]
  },
  {
   "cell_type": "code",
   "execution_count": 7,
   "metadata": {},
   "outputs": [],
   "source": [
    "# d = dict.fromkeys(['columns', 'nulls', 'ratio', 'val1', 'val'])\n",
    "list = []\n",
    "for c in df.columns:\n",
    "    list1 = []\n",
    "    val = df[df[c].notna()].hospital_death.value_counts()[1]/df[df[c].notna()].hospital_death.value_counts()[0]\n",
    "    if df[c].isna().sum() > 0:\n",
    "        val1 = df[df[c].isna()].hospital_death.value_counts()[1]/df[df[c].isna()].hospital_death.value_counts()[0]\n",
    "        if abs(val1-val) > 0.05:\n",
    "            list1.append(c)\n",
    "            list1.append(df[c].isna().sum())\n",
    "            list1.append(val1/val)\n",
    "            list1.append(val1)\n",
    "            list1.append(val)\n",
    "            list1.append(df[df[c].isna()].hospital_death.value_counts()[1])\n",
    "\n",
    "\n",
    "            list.append(list1)"
   ]
  },
  {
   "cell_type": "code",
   "execution_count": 8,
   "metadata": {},
   "outputs": [],
   "source": [
    "df2 = pd.DataFrame.from_records(list)"
   ]
  },
  {
   "cell_type": "code",
   "execution_count": 9,
   "metadata": {},
   "outputs": [
    {
     "data": {
      "text/html": [
       "<div>\n",
       "<style scoped>\n",
       "    .dataframe tbody tr th:only-of-type {\n",
       "        vertical-align: middle;\n",
       "    }\n",
       "\n",
       "    .dataframe tbody tr th {\n",
       "        vertical-align: top;\n",
       "    }\n",
       "\n",
       "    .dataframe thead th {\n",
       "        text-align: right;\n",
       "    }\n",
       "</style>\n",
       "<table border=\"1\" class=\"dataframe\">\n",
       "  <thead>\n",
       "    <tr style=\"text-align: right;\">\n",
       "      <th></th>\n",
       "      <th>0</th>\n",
       "      <th>1</th>\n",
       "      <th>2</th>\n",
       "      <th>3</th>\n",
       "      <th>4</th>\n",
       "      <th>5</th>\n",
       "    </tr>\n",
       "  </thead>\n",
       "  <tbody>\n",
       "    <tr>\n",
       "      <th>0</th>\n",
       "      <td>age</td>\n",
       "      <td>4228</td>\n",
       "      <td>1.974470</td>\n",
       "      <td>0.179030</td>\n",
       "      <td>0.090672</td>\n",
       "      <td>642</td>\n",
       "    </tr>\n",
       "    <tr>\n",
       "      <th>1</th>\n",
       "      <td>gender</td>\n",
       "      <td>25</td>\n",
       "      <td>4.986259</td>\n",
       "      <td>0.470588</td>\n",
       "      <td>0.094377</td>\n",
       "      <td>8</td>\n",
       "    </tr>\n",
       "    <tr>\n",
       "      <th>2</th>\n",
       "      <td>height</td>\n",
       "      <td>1334</td>\n",
       "      <td>1.777023</td>\n",
       "      <td>0.166084</td>\n",
       "      <td>0.093462</td>\n",
       "      <td>190</td>\n",
       "    </tr>\n",
       "    <tr>\n",
       "      <th>3</th>\n",
       "      <td>albumin_apache</td>\n",
       "      <td>54379</td>\n",
       "      <td>0.592493</td>\n",
       "      <td>0.074238</td>\n",
       "      <td>0.125298</td>\n",
       "      <td>3758</td>\n",
       "    </tr>\n",
       "    <tr>\n",
       "      <th>4</th>\n",
       "      <td>fio2_apache</td>\n",
       "      <td>70868</td>\n",
       "      <td>0.290996</td>\n",
       "      <td>0.063047</td>\n",
       "      <td>0.216658</td>\n",
       "      <td>4203</td>\n",
       "    </tr>\n",
       "  </tbody>\n",
       "</table>\n",
       "</div>"
      ],
      "text/plain": [
       "                0      1         2         3         4     5\n",
       "0             age   4228  1.974470  0.179030  0.090672   642\n",
       "1          gender     25  4.986259  0.470588  0.094377     8\n",
       "2          height   1334  1.777023  0.166084  0.093462   190\n",
       "3  albumin_apache  54379  0.592493  0.074238  0.125298  3758\n",
       "4     fio2_apache  70868  0.290996  0.063047  0.216658  4203"
      ]
     },
     "execution_count": 9,
     "metadata": {},
     "output_type": "execute_result"
    }
   ],
   "source": [
    "df2.head()"
   ]
  },
  {
   "cell_type": "markdown",
   "metadata": {},
   "source": [
    "Applying all our data transformations:"
   ]
  },
  {
   "cell_type": "code",
   "execution_count": 11,
   "metadata": {},
   "outputs": [],
   "source": [
    "df = src.wrangle.get_training_data()"
   ]
  },
  {
   "cell_type": "code",
   "execution_count": 13,
   "metadata": {},
   "outputs": [
    {
     "name": "stdout",
     "output_type": "stream",
     "text": [
      "Number of Columns: 185, Number of rows: 91688\n"
     ]
    }
   ],
   "source": [
    "print(f'Number of Columns: {df.shape[1]}, Number of rows: {df.shape[0]}')"
   ]
  },
  {
   "cell_type": "markdown",
   "metadata": {},
   "source": [
    "> After fixing missing values and min-max issues, we don't have a significant loss in data points."
   ]
  },
  {
   "cell_type": "markdown",
   "metadata": {},
   "source": [
    "# Exploration: Examining Which Factors are Affecting Patient Survival"
   ]
  },
  {
   "cell_type": "markdown",
   "metadata": {},
   "source": [
    "## Are certain hospitals better at data collection, and does that have an impact on patient outcomes?"
   ]
  },
  {
   "cell_type": "markdown",
   "metadata": {},
   "source": [
    "## Is there a link between hospital and death rate?"
   ]
  },
  {
   "cell_type": "markdown",
   "metadata": {},
   "source": [
    "## Does the age of the patient have a significant impact on patient survivability?"
   ]
  },
  {
   "cell_type": "markdown",
   "metadata": {},
   "source": [
    "## The gender of the patient and outcome?"
   ]
  },
  {
   "cell_type": "markdown",
   "metadata": {},
   "source": [
    "# Feature Engineering: 'Bringing a Magnet to the Needle in a Haystack Problem'"
   ]
  },
  {
   "cell_type": "markdown",
   "metadata": {},
   "source": [
    "# Modeling: Bringing it All Together"
   ]
  },
  {
   "cell_type": "markdown",
   "metadata": {},
   "source": [
    "# Conclusion: What We've Done and What's Next"
   ]
  }
 ],
 "metadata": {
  "kernelspec": {
   "display_name": "Python 3",
   "language": "python",
   "name": "python3"
  },
  "language_info": {
   "codemirror_mode": {
    "name": "ipython",
    "version": 3
   },
   "file_extension": ".py",
   "mimetype": "text/x-python",
   "name": "python",
   "nbconvert_exporter": "python",
   "pygments_lexer": "ipython3",
   "version": "3.7.6"
  },
  "toc-autonumbering": true,
  "toc-showcode": false,
  "toc-showmarkdowntxt": false,
  "toc-showtags": false
 },
 "nbformat": 4,
 "nbformat_minor": 4
}
